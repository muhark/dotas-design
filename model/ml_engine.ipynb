{
 "cells": [
  {
   "cell_type": "markdown",
   "metadata": {},
   "source": [
    "# Jupyter Kernel Host\n",
    "\n",
    "This notebook hosts the interface for the interactive machine learning model in dotas design.\n",
    "Model training is done prior in a separate script."
   ]
  },
  {
   "cell_type": "code",
   "execution_count": 1,
   "metadata": {},
   "outputs": [],
   "source": [
    "from model_predict import *\n",
    "from numpy.random import choice, MT19937, RandomState, SeedSequence, permutation\n",
    "import json"
   ]
  },
  {
   "cell_type": "code",
   "execution_count": 2,
   "metadata": {},
   "outputs": [],
   "source": [
    "rs = RandomState(MT19937(SeedSequence(634)))"
   ]
  },
  {
   "cell_type": "code",
   "execution_count": 3,
   "metadata": {},
   "outputs": [],
   "source": [
    "# Stage 1 contains all ads + control with equal probability\n",
    "s1_n = 1500\n",
    "s1_ads = [f'ad-{i}' for i in range(1, 5)]\n",
    "a = [1, 2, 3, 4, 5]\n",
    "s1_queue = list(np.concatenate([permutation(a) for i in range(300)]))"
   ]
  },
  {
   "cell_type": "code",
   "execution_count": null,
   "metadata": {},
   "outputs": [],
   "source": []
  },
  {
   "cell_type": "code",
   "execution_count": 4,
   "metadata": {},
   "outputs": [],
   "source": [
    "# Stage 2 excludes control ad\n",
    "# Need a temporary mapping for demonstration purposes\n",
    "# temp_map = dict(zip(ADS_VEC, 3*s1_ads[1:]))\n",
    "# Equal probability of any prompt\n",
    "s2_briefs = ['group_a', 'group_b', 'group_c']\n",
    "s2_probs = [1/len(s2_briefs)]*len(s2_briefs)"
   ]
  },
  {
   "cell_type": "code",
   "execution_count": 21,
   "metadata": {},
   "outputs": [],
   "source": [
    "REQUEST = json.dumps({'body':{ \"age\": [\"18\"], \"gender\": [\"1\"], \"race\": [\"1\"], \"income\": [\"1\"], \"state\": [\"AL\"], \"newsint\": [\"1\"], \"track_pre\": [\"not sure\"], \"pid_7_pre\": [\"7\"], \"ideo5_pre\": [\"4\"] }})"
   ]
  },
  {
   "cell_type": "code",
   "execution_count": 6,
   "metadata": {},
   "outputs": [
    {
     "name": "stdout",
     "output_type": "stream",
     "text": [
      "{\"brief\": \"group_a\", \"video\": \"5\"}\n"
     ]
    }
   ],
   "source": [
    "# POST /train\n",
    "req = json.loads(REQUEST)['body']\n",
    "try:\n",
    "    s1_ad = str(s1_queue.pop())\n",
    "except IndexError:\n",
    "    s1_ad = str(choice(np.arange(1, 6), size=1))\n",
    "print(json.dumps({'brief': 'group_a', 'video': s1_ad}))"
   ]
  },
  {
   "cell_type": "code",
   "execution_count": 22,
   "metadata": {},
   "outputs": [
    {
     "name": "stdout",
     "output_type": "stream",
     "text": [
      "{\"brief\": \"group_a\", \"video\": \"5\"}\n"
     ]
    }
   ],
   "source": [
    "# POST /predict\n",
    "req = json.loads(REQUEST)['body']\n",
    "# s2_brief = choice(a=s2_briefs, size=1, p=s2_probs)[0]\n",
    "s2_ad = str(get_best_ad(req, model)+1)\n",
    "print(json.dumps({'brief': \"group_a\", 'video': s2_ad}))"
   ]
  },
  {
   "cell_type": "code",
   "execution_count": null,
   "metadata": {},
   "outputs": [],
   "source": [
    "# GET /queue\n",
    "print(json.dumps({'queue':s1_queue}))"
   ]
  },
  {
   "cell_type": "code",
   "execution_count": null,
   "metadata": {},
   "outputs": [],
   "source": [
    "# GET /popqueue\n",
    "try:\n",
    "    print(json.dumps({'pop':s1_queue.pop()}))\n",
    "except IndexError:\n",
    "    print(\"Queue is empty!\")"
   ]
  },
  {
   "cell_type": "code",
   "execution_count": null,
   "metadata": {},
   "outputs": [],
   "source": [
    "# POST /test\n",
    "print(REQUEST)"
   ]
  }
 ],
 "metadata": {
  "kernelspec": {
   "display_name": "AWS",
   "language": "python",
   "name": "aws"
  },
  "language_info": {
   "codemirror_mode": {
    "name": "ipython",
    "version": 3
   },
   "file_extension": ".py",
   "mimetype": "text/x-python",
   "name": "python",
   "nbconvert_exporter": "python",
   "pygments_lexer": "ipython3",
   "version": "3.8.5"
  }
 },
 "nbformat": 4,
 "nbformat_minor": 4
}
