{
 "cells": [
  {
   "cell_type": "markdown",
   "metadata": {},
   "source": [
    "# Test Interact API\n",
    "\n",
    "This is based on the Scotch API, but needs to also be able to receive arguments from POST methods sent by a php script."
   ]
  },
  {
   "cell_type": "code",
   "execution_count": 2,
   "metadata": {},
   "outputs": [],
   "source": [
    "import numpy as np\n",
    "import json\n",
    "from joblib import load"
   ]
  },
  {
   "cell_type": "markdown",
   "metadata": {},
   "source": [
    "# Loading model\n",
    "\n",
    "Pre-trained ML model is loaded with joblib, with custom predict method."
   ]
  },
  {
   "cell_type": "code",
   "execution_count": 3,
   "metadata": {},
   "outputs": [],
   "source": [
    "rf1 = load(\"../model/rf1.joblib\")"
   ]
  },
  {
   "cell_type": "code",
   "execution_count": null,
   "metadata": {},
   "outputs": [],
   "source": [
    "# # Input vector is (45, ), type float64\n",
    "# row = np.array(\n",
    "#     [4., 60.,  1.,  4.,  2.,  7.,  5.,  0.,  0.,  0.,  0.,  0.,  0.,\n",
    "#      0.,  0.,  1.,  0.,  0.,  0.,  0.,  0.,  0.,  0.,  0.,  0.,  0.,\n",
    "#      0.,  0.,  0.,  0.,  0.,  1.,  0.,  0.,  0.,  0.,  0.,  0.,  0.,\n",
    "#      0.,  0.,  0.,  1.,  0.,  1.,  0.])\n",
    "\n",
    "# x = row[1:].reshape(1, -1)\n",
    "\n",
    "# rf1.predict(x)"
   ]
  },
  {
   "cell_type": "markdown",
   "metadata": {},
   "source": [
    "# API"
   ]
  },
  {
   "cell_type": "markdown",
   "metadata": {},
   "source": [
    "Test cell to ensure API call works"
   ]
  },
  {
   "cell_type": "code",
   "execution_count": 19,
   "metadata": {},
   "outputs": [],
   "source": [
    "JSON = 'application/json'\n",
    "content_type = JSON\n",
    "\n",
    "def print_response(content, content_type=JSON):\n",
    "    if content_type == JSON:\n",
    "        print(json.dumps(content))\n",
    "    elif content_type == XML:\n",
    "        print(dicttoxml(content).decode('UTF-8'))"
   ]
  },
  {
   "cell_type": "code",
   "execution_count": 5,
   "metadata": {},
   "outputs": [],
   "source": [
    "REQUEST = json.dumps({\n",
    "  'birthyear': 1995,\n",
    "  'gender': 'male',\n",
    "  'race': 'Mixed',\n",
    "  'income': 'under50k',\n",
    "  'newsint': 'mostofthetime',\n",
    "  'track_pre': 'wrongdir',\n",
    "  'pid_7_pre': 1,\n",
    "  'ideo_5_pre': 1\n",
    "})"
   ]
  },
  {
   "cell_type": "code",
   "execution_count": 1,
   "metadata": {},
   "outputs": [
    {
     "name": "stdout",
     "output_type": "stream",
     "text": [
      "Hello World!\n"
     ]
    }
   ],
   "source": [
    "# GET /testget\n",
    "print(\"Hello World!\")"
   ]
  },
  {
   "cell_type": "code",
   "execution_count": 7,
   "metadata": {},
   "outputs": [
    {
     "name": "stdout",
     "output_type": "stream",
     "text": [
      "{\"birthyear\": 1995, \"gender\": \"male\", \"race\": \"Mixed\", \"income\": \"under50k\", \"newsint\": \"mostofthetime\", \"track_pre\": \"wrongdir\", \"pid_7_pre\": 1, \"ideo_5_pre\": 1}\n"
     ]
    }
   ],
   "source": [
    "# POST /test\n",
    "req = json.loads(REQUEST)\n",
    "print(json.dumps(req))"
   ]
  },
  {
   "cell_type": "code",
   "execution_count": 9,
   "metadata": {},
   "outputs": [
    {
     "name": "stdout",
     "output_type": "stream",
     "text": [
      "{\"birthyear\": 1995, \"gender\": \"male\", \"race\": \"Mixed\", \"income\": \"under50k\", \"newsint\": \"mostofthetime\", \"track_pre\": \"wrongdir\", \"pid_7_pre\": 1, \"ideo_5_pre\": 1}\n"
     ]
    }
   ],
   "source": [
    "# POST /testpost\n",
    "req = json.loads(REQUEST)\n",
    "print(json.dumps(req))"
   ]
  },
  {
   "cell_type": "code",
   "execution_count": 10,
   "metadata": {},
   "outputs": [
    {
     "name": "stdout",
     "output_type": "stream",
     "text": [
      "{\"birthyear\": 1995, \"gender\": \"male\", \"race\": \"Mixed\", \"income\": \"under50k\", \"newsint\": \"mostofthetime\", \"track_pre\": \"wrongdir\", \"pid_7_pre\": 1, \"ideo_5_pre\": 1}\n"
     ]
    }
   ],
   "source": [
    "# GET /formget\n",
    "req = json.loads(REQUEST)\n",
    "print(json.dumps(req))"
   ]
  },
  {
   "cell_type": "code",
   "execution_count": 5,
   "metadata": {},
   "outputs": [
    {
     "ename": "NameError",
     "evalue": "name 'REQUEST' is not defined",
     "output_type": "error",
     "traceback": [
      "\u001b[0;31m---------------------------------------------------------------------------\u001b[0m",
      "\u001b[0;31mNameError\u001b[0m                                 Traceback (most recent call last)",
      "\u001b[0;32m<ipython-input-5-f0e9f4a36edc>\u001b[0m in \u001b[0;36m<module>\u001b[0;34m\u001b[0m\n\u001b[0;32m----> 1\u001b[0;31m \u001b[0mREQUEST\u001b[0m\u001b[0;34m\u001b[0m\u001b[0;34m\u001b[0m\u001b[0m\n\u001b[0m",
      "\u001b[0;31mNameError\u001b[0m: name 'REQUEST' is not defined"
     ]
    }
   ],
   "source": []
  }
 ],
 "metadata": {
  "kernelspec": {
   "display_name": "AWS",
   "language": "python",
   "name": "aws"
  },
  "language_info": {
   "codemirror_mode": {
    "name": "ipython",
    "version": 3
   },
   "file_extension": ".py",
   "mimetype": "text/x-python",
   "name": "python",
   "nbconvert_exporter": "python",
   "pygments_lexer": "ipython3",
   "version": "3.8.5"
  }
 },
 "nbformat": 4,
 "nbformat_minor": 4
}
