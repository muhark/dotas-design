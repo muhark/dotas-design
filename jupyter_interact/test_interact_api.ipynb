{
 "cells": [
  {
   "cell_type": "markdown",
   "metadata": {},
   "source": [
    "# Jupyter Kernel Host\n",
    "\n",
    "This notebook hosts the interface for the interactive machine learning model in dotas design.\n",
    "Model training is done prior in a separate script."
   ]
  },
  {
   "cell_type": "code",
   "execution_count": 2,
   "metadata": {},
   "outputs": [],
   "source": [
    "from model_predict import *\n",
    "from numpy.random import choice, MT19937, RandomState, SeedSequence\n",
    "import json"
   ]
  },
  {
   "cell_type": "code",
   "execution_count": 3,
   "metadata": {},
   "outputs": [],
   "source": [
    "rs = RandomState(MT19937(SeedSequence(634)))\n",
    "\n",
    "# Stage 1\n",
    "s1_grps = ['control'] + ADS_VEC\n",
    "s1_urls = ADS_MAP\n",
    "s1_urls['control'] = \"/ads/control.webm\"\n",
    "s1_probs = [1/len(s1_grps)]*len(s1_grps)\n",
    "\n",
    "# Stage 2\n",
    "s2_grps = ['group_a', 'group_b', 'group_c']\n",
    "s2_probs = [1/len(s2_grps)]*len(s2_grps)"
   ]
  },
  {
   "cell_type": "code",
   "execution_count": 14,
   "metadata": {},
   "outputs": [],
   "source": [
    "REQUEST = json.dumps({'body':{ \"age\": [\"2003\"], \"gender\": [\"1\"], \"race\": [\"1\"], \"income\": [\"1\"], \"region\": [\"4\"], \"newsint\": [\"1\"], \"track_pre\": [\"notsure\"], \"pid_7_pre\": [\"1\"], \"ideo5_pre\": [\"4\"] }})"
   ]
  },
  {
   "cell_type": "code",
   "execution_count": 12,
   "metadata": {},
   "outputs": [
    {
     "name": "stdout",
     "output_type": "stream",
     "text": [
      "{\"brief\": \"group_a\", \"video\": \"/ads/ad_6.webm\"}\n"
     ]
    }
   ],
   "source": [
    "# POST /train\n",
    "req = json.loads(REQUEST)['body']\n",
    "s1_ad = s1_urls[choice(a=s1_grps, size=1, p=s1_probs)[0]]\n",
    "print(json.dumps({'brief': 'group_a', 'video': s1_ad}))"
   ]
  },
  {
   "cell_type": "code",
   "execution_count": 26,
   "metadata": {},
   "outputs": [
    {
     "name": "stdout",
     "output_type": "stream",
     "text": [
      "{\"brief\": \"group_b\", \"video\": \"/ads/ad_2.webm\"}\n"
     ]
    }
   ],
   "source": [
    "# POST /predict\n",
    "req = json.loads(REQUEST)['body']\n",
    "s2_grp = choice(a=s2_grps, size=1, p=s2_probs)[0]\n",
    "s2_ad = ADS_MAP[ADS_VEC[get_best_ad(req, model)]]\n",
    "print(json.dumps({'brief': s2_grp, 'video': s2_ad}))"
   ]
  },
  {
   "cell_type": "code",
   "execution_count": null,
   "metadata": {},
   "outputs": [],
   "source": [
    "# POST /testpredict\n",
    "print(json.dumps({\"video\": \"/ads/ad_2.webm\"}))"
   ]
  }
 ],
 "metadata": {
  "kernelspec": {
   "display_name": "AWS",
   "language": "python",
   "name": "aws"
  },
  "language_info": {
   "codemirror_mode": {
    "name": "ipython",
    "version": 3
   },
   "file_extension": ".py",
   "mimetype": "text/x-python",
   "name": "python",
   "nbconvert_exporter": "python",
   "pygments_lexer": "ipython3",
   "version": "3.8.5"
  }
 },
 "nbformat": 4,
 "nbformat_minor": 4
}
