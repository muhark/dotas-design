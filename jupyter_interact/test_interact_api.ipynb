{
 "cells": [
  {
   "cell_type": "markdown",
   "metadata": {},
   "source": [
    "# Jupyter Kernel Host\n",
    "\n",
    "This notebook hosts the interface for the interactive machine learning model in dotas design.\n",
    "Model training is done prior in a separate script."
   ]
  },
  {
   "cell_type": "code",
   "execution_count": null,
   "metadata": {},
   "outputs": [],
   "source": [
    "from model_predict import *\n",
    "from numpy.random import choice, MT19937, RandomState, SeedSequence\n",
    "import json"
   ]
  },
  {
   "cell_type": "code",
   "execution_count": null,
   "metadata": {},
   "outputs": [],
   "source": [
    "rs = RandomState(MT19937(SeedSequence(634)))"
   ]
  },
  {
   "cell_type": "code",
   "execution_count": null,
   "metadata": {},
   "outputs": [],
   "source": [
    "# Stage 1 contains all ads + control with equal probability\n",
    "s1_ads = ['control'] + [f'ad-{i}' for i in range(1, 12)]\n",
    "s1_probs = [1/len(s1_ads)]*len(s1_ads)"
   ]
  },
  {
   "cell_type": "code",
   "execution_count": null,
   "metadata": {},
   "outputs": [],
   "source": [
    "# Stage 2 excludes control ad\n",
    "# Need a temporary mapping for demonstration purposes\n",
    "temp_map = dict(zip(ADS_VEC, 3*s1_ads[1:]))\n",
    "# Equal probability of any prompt\n",
    "s2_briefs = ['group_a', 'group_b', 'group_c']\n",
    "s2_probs = [1/len(s2_briefs)]*len(s2_briefs)"
   ]
  },
  {
   "cell_type": "code",
   "execution_count": null,
   "metadata": {},
   "outputs": [],
   "source": [
    "# REQUEST = json.dumps({'body':{ \"age\": [\"2003\"], \"gender\": [\"1\"], \"race\": [\"1\"], \"income\": [\"1\"], \"region\": [\"4\"], \"newsint\": [\"1\"], \"track_pre\": [\"notsure\"], \"pid_7_pre\": [\"1\"], \"ideo5_pre\": [\"4\"] }})"
   ]
  },
  {
   "cell_type": "code",
   "execution_count": null,
   "metadata": {},
   "outputs": [],
   "source": [
    "# POST /train\n",
    "req = json.loads(REQUEST)['body']\n",
    "s1_ad = choice(a=s1_ads, size=1, p=s1_probs)[0]\n",
    "print(json.dumps({'brief': 'group_a', 'video': s1_ad}))"
   ]
  },
  {
   "cell_type": "code",
   "execution_count": null,
   "metadata": {},
   "outputs": [],
   "source": [
    "# POST /predict\n",
    "req = json.loads(REQUEST)['body']\n",
    "s2_brief = choice(a=s2_briefs, size=1, p=s2_probs)[0]\n",
    "s2_ad = temp_map[ADS_VEC[get_best_ad(req, model)]]\n",
    "print(json.dumps({'brief': s2_brief, 'video': s2_ad}))"
   ]
  }
 ],
 "metadata": {
  "kernelspec": {
   "display_name": "AWS",
   "language": "python",
   "name": "aws"
  },
  "language_info": {
   "codemirror_mode": {
    "name": "ipython",
    "version": 3
   },
   "file_extension": ".py",
   "mimetype": "text/x-python",
   "name": "python",
   "nbconvert_exporter": "python",
   "pygments_lexer": "ipython3",
   "version": "3.8.5"
  }
 },
 "nbformat": 4,
 "nbformat_minor": 4
}
