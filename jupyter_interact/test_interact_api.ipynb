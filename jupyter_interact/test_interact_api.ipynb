{
 "cells": [
  {
   "cell_type": "markdown",
   "metadata": {},
   "source": [
    "# Test Interact API\n",
    "\n",
    "This is based on the Scotch API, but needs to also be able to receive arguments from POST methods sent by a php script."
   ]
  },
  {
   "cell_type": "code",
   "execution_count": null,
   "metadata": {},
   "outputs": [],
   "source": [
    "from model_predict import *\n",
    "import json"
   ]
  },
  {
   "cell_type": "markdown",
   "metadata": {},
   "source": [
    "# Loading model\n",
    "\n",
    "Pre-trained ML model is loaded with joblib, with custom predict method."
   ]
  },
  {
   "cell_type": "markdown",
   "metadata": {},
   "source": [
    "# API"
   ]
  },
  {
   "cell_type": "markdown",
   "metadata": {},
   "source": [
    "Test cell to ensure API call works"
   ]
  },
  {
   "cell_type": "markdown",
   "metadata": {},
   "source": [
    "REQUEST = json.dumps({\n",
    "    \"birthyear\": [\"2003\"],\n",
    "    \"gender\": [\"1\"],\n",
    "    \"race\": [\"1\"],\n",
    "    \"income\": [\"1\"],\n",
    "    \"region\": [\"4\"],\n",
    "    \"newsint\": [\"1\"],\n",
    "    \"track_pre\": [\"notsure\"],\n",
    "    \"pid_7_pre\": [\"1\"],\n",
    "    \"ideo5_pre\": [\"4\"]\n",
    "})"
   ]
  },
  {
   "cell_type": "code",
   "execution_count": null,
   "metadata": {},
   "outputs": [],
   "source": [
    "# POST /testpost\n",
    "req = json.loads(REQUEST)['body']\n",
    "print(json.dumps(req))"
   ]
  },
  {
   "cell_type": "code",
   "execution_count": null,
   "metadata": {},
   "outputs": [],
   "source": [
    "# GET /formget\n",
    "req = json.loads(REQUEST)\n",
    "print(json.dumps(req))"
   ]
  },
  {
   "cell_type": "code",
   "execution_count": null,
   "metadata": {},
   "outputs": [],
   "source": [
    "# POST /testpredict\n",
    "req = json.loads(REQUEST)['body']\n",
    "best_ad = ADS_VEC[get_best_ad(req, model)]\n",
    "print(json.dumps({'best_ad':best_ad}))"
   ]
  }
 ],
 "metadata": {
  "kernelspec": {
   "display_name": "AWS",
   "language": "python",
   "name": "aws"
  },
  "language_info": {
   "codemirror_mode": {
    "name": "ipython",
    "version": 3
   },
   "file_extension": ".py",
   "mimetype": "text/x-python",
   "name": "python",
   "nbconvert_exporter": "python",
   "pygments_lexer": "ipython3",
   "version": "3.8.5"
  }
 },
 "nbformat": 4,
 "nbformat_minor": 4
}
